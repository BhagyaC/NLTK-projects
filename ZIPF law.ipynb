{
 "cells": [
  {
   "cell_type": "code",
   "execution_count": 1,
   "metadata": {},
   "outputs": [],
   "source": [
    "import nltk\n",
    "import re\n",
    "import pandas as pd\n",
    "from operator import itemgetter"
   ]
  },
  {
   "cell_type": "code",
   "execution_count": 2,
   "metadata": {},
   "outputs": [],
   "source": [
    "from nltk.probability import FreqDist\n",
    "from nltk.corpus import stopwords"
   ]
  },
  {
   "cell_type": "code",
   "execution_count": 3,
   "metadata": {},
   "outputs": [],
   "source": [
    "freq = {}"
   ]
  },
  {
   "cell_type": "code",
   "execution_count": 4,
   "metadata": {},
   "outputs": [],
   "source": [
    "words_a = nltk.corpus.gutenberg.words('austen-emma.txt')\n"
   ]
  },
  {
   "cell_type": "code",
   "execution_count": 5,
   "metadata": {},
   "outputs": [],
   "source": [
    "for word in words_a:\n",
    "    count = freq.get(word,0)\n",
    "    freq[word] = count +1"
   ]
  },
  {
   "cell_type": "code",
   "execution_count": 6,
   "metadata": {},
   "outputs": [],
   "source": [
    "rank = 1\n",
    "column_header = ['Rank', 'Frequency', 'Frequency*Rank','mandlebort']\n",
    "df = pd.DataFrame(columns= column_header)"
   ]
  },
  {
   "cell_type": "code",
   "execution_count": 7,
   "metadata": {},
   "outputs": [
    {
     "data": {
      "text/html": [
       "<div>\n",
       "<style scoped>\n",
       "    .dataframe tbody tr th:only-of-type {\n",
       "        vertical-align: middle;\n",
       "    }\n",
       "\n",
       "    .dataframe tbody tr th {\n",
       "        vertical-align: top;\n",
       "    }\n",
       "\n",
       "    .dataframe thead th {\n",
       "        text-align: right;\n",
       "    }\n",
       "</style>\n",
       "<table border=\"1\" class=\"dataframe\">\n",
       "  <thead>\n",
       "    <tr style=\"text-align: right;\">\n",
       "      <th></th>\n",
       "      <th>Rank</th>\n",
       "      <th>Frequency</th>\n",
       "      <th>Frequency*Rank</th>\n",
       "    </tr>\n",
       "  </thead>\n",
       "  <tbody>\n",
       "  </tbody>\n",
       "</table>\n",
       "</div>"
      ],
      "text/plain": [
       "Empty DataFrame\n",
       "Columns: [Rank, Frequency, Frequency*Rank]\n",
       "Index: []"
      ]
     },
     "execution_count": 7,
     "metadata": {},
     "output_type": "execute_result"
    }
   ],
   "source": [
    "df"
   ]
  },
  {
   "cell_type": "code",
   "execution_count": 31,
   "metadata": {},
   "outputs": [],
   "source": [
    "a = reversed(sorted(freq.items(),key=itemgetter(1)))"
   ]
  },
  {
   "cell_type": "code",
   "execution_count": 32,
   "metadata": {},
   "outputs": [
    {
     "data": {
      "text/plain": [
       "<list_reverseiterator at 0x1187501d0>"
      ]
     },
     "execution_count": 32,
     "metadata": {},
     "output_type": "execute_result"
    }
   ],
   "source": [
    "a"
   ]
  },
  {
   "cell_type": "code",
   "execution_count": 8,
   "metadata": {},
   "outputs": [],
   "source": [
    "for word, freq in reversed(sorted(freq.items(),key=itemgetter(1))):\n",
    "    df.loc[word] = [rank,freq,rank*freq,]\n",
    "    rank = rank+1"
   ]
  },
  {
   "cell_type": "code",
   "execution_count": 12,
   "metadata": {},
   "outputs": [],
   "source": [
    "mandelbort = df['Frequency']"
   ]
  },
  {
   "cell_type": "code",
   "execution_count": 13,
   "metadata": {},
   "outputs": [
    {
     "data": {
      "text/plain": [
       ",                 11454\n",
       ".                  6928\n",
       "to                 5183\n",
       "the                4844\n",
       "and                4672\n",
       "of                 4279\n",
       "I                  3178\n",
       "a                  3004\n",
       "was                2385\n",
       "her                2381\n",
       ";                  2199\n",
       "it                 2128\n",
       "in                 2118\n",
       "not                2101\n",
       "\"                  2004\n",
       "be                 1970\n",
       "she                1778\n",
       "that               1730\n",
       "you                1677\n",
       "had                1606\n",
       "as                 1387\n",
       "--                 1382\n",
       "he                 1365\n",
       "for                1321\n",
       "have               1301\n",
       "is                 1220\n",
       "with               1187\n",
       "Mr                 1153\n",
       "very               1151\n",
       "but                1148\n",
       "                  ...  \n",
       "speck                 1\n",
       "Dirty                 1\n",
       "bangs                 1\n",
       "lock                  1\n",
       "needlework            1\n",
       "curtseys              1\n",
       "housemaid             1\n",
       "chatted               1\n",
       "Matrimony             1\n",
       "awoke                 1\n",
       "lieu                  1\n",
       "equals                1\n",
       "amounting             1\n",
       "valetudinarian        1\n",
       "tenderer              1\n",
       "debt                  1\n",
       "mournful              1\n",
       "Sorrow                1\n",
       "misfortunes           1\n",
       "disadvantages         1\n",
       "esteeming             1\n",
       "impose                1\n",
       "mildness              1\n",
       "nominal               1\n",
       "caresses              1\n",
       "indistinct            1\n",
       "vex                   1\n",
       "]                     1\n",
       "1816                  1\n",
       "Austen                1\n",
       "Name: Frequency, Length: 7811, dtype: object"
      ]
     },
     "execution_count": 13,
     "metadata": {},
     "output_type": "execute_result"
    }
   ],
   "source": [
    "mandelbort"
   ]
  },
  {
   "cell_type": "code",
   "execution_count": null,
   "metadata": {},
   "outputs": [],
   "source": []
  }
 ],
 "metadata": {
  "kernelspec": {
   "display_name": "Python 3",
   "language": "python",
   "name": "python3"
  },
  "language_info": {
   "codemirror_mode": {
    "name": "ipython",
    "version": 3
   },
   "file_extension": ".py",
   "mimetype": "text/x-python",
   "name": "python",
   "nbconvert_exporter": "python",
   "pygments_lexer": "ipython3",
   "version": "3.7.4"
  }
 },
 "nbformat": 4,
 "nbformat_minor": 2
}
